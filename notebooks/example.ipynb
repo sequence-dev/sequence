{
 "cells": [
  {
   "cell_type": "markdown",
   "id": "2815939c",
   "metadata": {},
   "source": [
    "![Sequence Logo](https://raw.githubusercontent.com/sequence-dev/sequence/develop/docs/_static/sequence-logo-text-lowercase.png)\n",
    "\n",
    "![Sequence Output](https://raw.githubusercontent.com/sequence-dev/sequence/develop/docs/_static/sequence_example_notebook_output.png)\n",
    "\n",
    "In this notebook we will demonstrate how chain together a set of process components using the `Sequence` class to create a new *sequence* model. We will then see how to run the model, plot some output, and dynamically change parameters mid-run."
   ]
  },
  {
   "cell_type": "markdown",
   "id": "722b40f1",
   "metadata": {},
   "source": [
    "# Create the *sequence* model grid\n",
    "\n",
    "The first step is to create a model grid (based on the *landlab* `RasterModelGrid`) on which we will run our new model."
   ]
  },
  {
   "cell_type": "code",
   "execution_count": null,
   "id": "c90feada",
   "metadata": {},
   "outputs": [],
   "source": [
    "import tqdm\n",
    "\n",
    "from sequence import Sequence, SequenceModelGrid, processes"
   ]
  },
  {
   "cell_type": "markdown",
   "id": "1f44bed6",
   "metadata": {},
   "source": [
    "The following code create a new grid with 100 vertical stacks that are each 1000 m in width. We then set the initial topoography (and bathymetry) for the model as well as setting sea level."
   ]
  },
  {
   "cell_type": "code",
   "execution_count": null,
   "id": "43bc9d89",
   "metadata": {},
   "outputs": [],
   "source": [
    "grid = SequenceModelGrid(100, spacing=1000.0)\n",
    "\n",
    "grid.at_node[\"topographic__elevation\"] = -0.001 * grid.x_of_node + 20.0"
   ]
  },
  {
   "cell_type": "markdown",
   "id": "753b28ce",
   "metadata": {},
   "source": [
    "# Create the process components\n",
    "\n",
    "We now create the process components that will form the basis of the new model. All of the process components that come with sequence are located in the `sequence.processes` module.\n",
    "\n",
    "Each of the processes components included with *sequence* are also *landlab* components but they don't have to be. All that is necessary is that each component is an object that has a *run_one_step* method that accepts a single argument, *dt*, to indicate how long a time step it should be run for.\n",
    "\n",
    "Components do not interact directly with one another but, instead, operate on *landlab* fields that are available to the other components through their common grid."
   ]
  },
  {
   "cell_type": "code",
   "execution_count": null,
   "id": "96d9cc6f",
   "metadata": {},
   "outputs": [],
   "source": [
    "submarine_diffusion = processes.SubmarineDiffuser(\n",
    "    grid,\n",
    "    plain_slope=0.0008,\n",
    "    wave_base=60.0,\n",
    "    shoreface_height=15.0,\n",
    "    alpha=0.0005,\n",
    "    shelf_slope=0.001,\n",
    "    sediment_load=3.0,\n",
    "    load_sealevel=0.0,\n",
    "    basin_width=500000.0,\n",
    ")\n",
    "\n",
    "fluvial = processes.Fluvial(\n",
    "    grid,\n",
    "    sand_frac=0.5,\n",
    "    sediment_load=submarine_diffusion.sediment_load,\n",
    "    plain_slope=submarine_diffusion.plain_slope,\n",
    "    hemipelagic=0.0,\n",
    ")\n",
    "\n",
    "sea_level = processes.SinusoidalSeaLevel(grid, amplitude=10.0, wave_length=200000)\n",
    "\n",
    "flexure = processes.SedimentFlexure(\n",
    "    grid, method=\"flexure\", rho_mantle=3300.0, isostasytime=0.0, eet=65000.0\n",
    ")\n",
    "\n",
    "compaction = processes.Compact(grid, porosity_min=0.01, porosity_max=0.5)\n",
    "\n",
    "shoreline = processes.ShorelineFinder(grid, alpha=submarine_diffusion.alpha)"
   ]
  },
  {
   "cell_type": "markdown",
   "id": "9f2dce0a",
   "metadata": {},
   "source": [
    "# Create a new *Sequence* model\n",
    "\n",
    "Create a new *Sequence* instance that will run sequenctially run the set of components. *Sequence* will run the processes in the order provided."
   ]
  },
  {
   "cell_type": "code",
   "execution_count": null,
   "id": "1ba92be6",
   "metadata": {},
   "outputs": [],
   "source": [
    "seq = Sequence(\n",
    "    grid,\n",
    "    time_step=100.0,\n",
    "    components=[\n",
    "        sea_level,\n",
    "        compaction,\n",
    "        submarine_diffusion,\n",
    "        fluvial,\n",
    "        flexure,\n",
    "        shoreline,\n",
    "    ],\n",
    ")"
   ]
  },
  {
   "cell_type": "markdown",
   "id": "282f70e1",
   "metadata": {},
   "source": [
    "Run the model for 3000 time steps."
   ]
  },
  {
   "cell_type": "code",
   "execution_count": null,
   "id": "55057e5e",
   "metadata": {},
   "outputs": [],
   "source": [
    "for _ in tqdm.trange(3000):\n",
    "    seq.update(dt=100.0)\n",
    "seq.plot()"
   ]
  },
  {
   "cell_type": "markdown",
   "id": "82ce0bad",
   "metadata": {},
   "source": [
    "# Dynamically change parameters\n",
    "\n",
    "## Increase sediment load\n",
    "\n",
    "To demostrate how we can dynamically change parameters, we'll now double the sediment input through the *submarine_diffusion* component."
   ]
  },
  {
   "cell_type": "code",
   "execution_count": null,
   "id": "97b28fe7",
   "metadata": {},
   "outputs": [],
   "source": [
    "submarine_diffusion.sediment_load *= 2"
   ]
  },
  {
   "cell_type": "code",
   "execution_count": null,
   "id": "64d17bdf",
   "metadata": {},
   "outputs": [],
   "source": [
    "for _ in tqdm.trange(1500):\n",
    "    seq.update(dt=100.0)\n",
    "seq.plot()"
   ]
  },
  {
   "cell_type": "markdown",
   "id": "bd7345df",
   "metadata": {},
   "source": [
    "## Create a vertical fault\n",
    "\n",
    "As another example of dynamically changing parameters, we could create a fault at $x=40 \\rm km$,"
   ]
  },
  {
   "cell_type": "code",
   "execution_count": null,
   "id": "740e6641",
   "metadata": {},
   "outputs": [],
   "source": [
    "grid.at_node[\"topographic__elevation\"][grid.x_of_node > 40000] -= 10.0\n",
    "grid.at_node[\"bedrock_surface__elevation\"][grid.x_of_node > 40000] -= 10.0"
   ]
  },
  {
   "cell_type": "code",
   "execution_count": null,
   "id": "b21a4edd",
   "metadata": {},
   "outputs": [],
   "source": [
    "seq.plot()"
   ]
  },
  {
   "cell_type": "code",
   "execution_count": null,
   "id": "796b0042",
   "metadata": {},
   "outputs": [],
   "source": [
    "for _ in tqdm.trange(1500):\n",
    "    seq.update(dt=100.0)\n",
    "seq.plot()"
   ]
  }
 ],
 "metadata": {
  "kernelspec": {
   "display_name": "Python 3 (ipykernel)",
   "language": "python",
   "name": "python3"
  },
  "language_info": {
   "codemirror_mode": {
    "name": "ipython",
    "version": 3
   },
   "file_extension": ".py",
   "mimetype": "text/x-python",
   "name": "python",
   "nbconvert_exporter": "python",
   "pygments_lexer": "ipython3",
   "version": "3.10.5"
  }
 },
 "nbformat": 4,
 "nbformat_minor": 5
}
